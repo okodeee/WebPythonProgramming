{
 "cells": [
  {
   "cell_type": "code",
   "execution_count": 7,
   "metadata": {},
   "outputs": [],
   "source": [
    "#find_remove_find\n",
    "def find_two_smallest_1(L):\n",
    "    #Get the minimum item in L\n",
    "    #Find the index of that minimum item\n",
    "    #Remove that item from the list\n",
    "    #Find the index of the new minimum item in the list\n",
    "    #Put the smallest item back in the list\n",
    "    #If necessary, adjust the second index\n",
    "    #Return the two indices\n",
    "    smallest = min(L) #96\n",
    "    min1 = L.index(smallest) #6\n",
    "    L.remove(smallest)\n",
    "    next_smallest = min(L) #102\n",
    "    min2 = L.index(next_smallest) #6\n",
    "    L.insert(min1, smallest)\n",
    "    if min1 <= min2:\n",
    "        min2 +=1 #6 -> 7\n",
    "    return (min1, min2)"
   ]
  },
  {
   "cell_type": "code",
   "execution_count": 8,
   "metadata": {},
   "outputs": [],
   "source": [
    "#sort, identify minimums, get indices\n",
    "def find_two_smallest_2(L):\n",
    "    #Sort a copy of L\n",
    "    #Get the two smallest numbers\n",
    "    #Find their indices in the original List L\n",
    "    #Return the two indices\n",
    "    sort_list = sorted(L)\n",
    "    min1 = L.index(sort_list[0])\n",
    "    min2 = L.index(sort_list[1])\n",
    "    return (min1, min2)"
   ]
  },
  {
   "cell_type": "code",
   "execution_count": 9,
   "metadata": {},
   "outputs": [],
   "source": [
    "#walk through the list\n",
    "def find_two_smallest_3(L):\n",
    "    #Set min1 and min2 to the indices of the smallest and next-smallest\n",
    "    #Values at the beginning of L\n",
    "    #Examine each value in the list in order\n",
    "    #Update these values when a new smaller value is found\n",
    "    #Return the two indices\n",
    "    if L[0] < L[1]:\n",
    "        min1, min2 = 0, 1\n",
    "    else:\n",
    "        min1, min2 = 1, 0\n",
    "    for i in range(2, len(L)):\n",
    "        if L[i] < L[min1]:\n",
    "            min2 = min1\n",
    "            min1 = i\n",
    "        elif L[i] < L[min2]:\n",
    "            min2 = i     \n",
    "    return (min1, min2)"
   ]
  },
  {
   "cell_type": "code",
   "execution_count": 10,
   "metadata": {},
   "outputs": [
    {
     "name": "stdout",
     "output_type": "stream",
     "text": [
      "(6, 7)\n",
      "(0, 1)\n",
      "(1, 0)\n",
      "(4, 3)\n",
      "(2, 4)\n",
      "(6, 7)\n",
      "(0, 1)\n",
      "(1, 0)\n",
      "(4, 3)\n",
      "(2, 4)\n",
      "(6, 7)\n",
      "(0, 1)\n",
      "(1, 0)\n",
      "(4, 3)\n",
      "(2, 4)\n"
     ]
    }
   ],
   "source": [
    "counts = [809, 834, 477, 478, 307, 122, 96, 102, 324, 476]\n",
    "a = [1, 2, 3, 4, 5]\n",
    "b = [2, 1, 3, 4, 5]\n",
    "c = [5, 4, 3, 2, 1]\n",
    "d = [5, 4, 1, 3, 2]\n",
    "\n",
    "print(find_two_smallest_1(counts))\n",
    "print(find_two_smallest_1(a))\n",
    "print(find_two_smallest_1(b))\n",
    "print(find_two_smallest_1(c))\n",
    "print(find_two_smallest_1(d))\n",
    "\n",
    "print(find_two_smallest_2(counts))\n",
    "print(find_two_smallest_2(a))\n",
    "print(find_two_smallest_2(b))\n",
    "print(find_two_smallest_2(c))\n",
    "print(find_two_smallest_2(d))\n",
    "\n",
    "print(find_two_smallest_3(counts))\n",
    "print(find_two_smallest_3(a))\n",
    "print(find_two_smallest_3(b))\n",
    "print(find_two_smallest_3(c))\n",
    "print(find_two_smallest_3(d))"
   ]
  },
  {
   "cell_type": "code",
   "execution_count": 15,
   "metadata": {},
   "outputs": [],
   "source": [
    "import time\n",
    "def time_find_two_smallest(find_func, lst):\n",
    "    t1 = time.perf_counter()\n",
    "    find_func(lst)\n",
    "    t2 = time.perf_counter()\n",
    "    return (t2-t1) * 1000"
   ]
  },
  {
   "cell_type": "code",
   "execution_count": 16,
   "metadata": {},
   "outputs": [
    {
     "name": "stdout",
     "output_type": "stream",
     "text": [
      "0.1495999999860942\n",
      "0.3118999999855987\n",
      "0.3777999999670101\n"
     ]
    }
   ],
   "source": [
    "L = []\n",
    "file = open('sea_levels.txt')\n",
    "for line in file:\n",
    "    L.append(float(line.strip()))\n",
    "file.close()\n",
    "\n",
    "time1 = time_find_two_smallest(find_two_smallest_1, L)\n",
    "time2 = time_find_two_smallest(find_two_smallest_2, L)\n",
    "time3 = time_find_two_smallest(find_two_smallest_3, L)\n",
    "\n",
    "print(time1) #find, remove, find\n",
    "print(time2) #sort, identify\n",
    "print(time3) #walk through"
   ]
  },
  {
   "cell_type": "code",
   "execution_count": null,
   "metadata": {},
   "outputs": [],
   "source": []
  }
 ],
 "metadata": {
  "kernelspec": {
   "display_name": "Python 3",
   "language": "python",
   "name": "python3"
  },
  "language_info": {
   "codemirror_mode": {
    "name": "ipython",
    "version": 3
   },
   "file_extension": ".py",
   "mimetype": "text/x-python",
   "name": "python",
   "nbconvert_exporter": "python",
   "pygments_lexer": "ipython3",
   "version": "3.7.6"
  }
 },
 "nbformat": 4,
 "nbformat_minor": 4
}
