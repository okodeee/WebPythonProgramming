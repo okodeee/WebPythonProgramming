{
 "cells": [
  {
   "cell_type": "code",
   "execution_count": 2,
   "metadata": {},
   "outputs": [
    {
     "name": "stdout",
     "output_type": "stream",
     "text": [
      "\n",
      "Menu: \n",
      "[0] scissor, \n",
      "[1] rock, \n",
      "[2] paper, \n",
      "[3] quit \n",
      "\n",
      "Select: 2\n",
      "\n",
      "Result: User [paper] vs Computer [paper] -> Winner is Tie\n",
      "\n",
      "Menu: \n",
      "[0] scissor, \n",
      "[1] rock, \n",
      "[2] paper, \n",
      "[3] quit \n",
      "\n",
      "Select: 1\n",
      "\n",
      "Result: User [rock] vs Computer [scissor] -> Winner is User\n",
      "\n",
      "Menu: \n",
      "[0] scissor, \n",
      "[1] rock, \n",
      "[2] paper, \n",
      "[3] quit \n",
      "\n",
      "Select: 0\n",
      "\n",
      "Result: User [scissor] vs Computer [rock] -> Winner is Computer\n",
      "\n",
      "Menu: \n",
      "[0] scissor, \n",
      "[1] rock, \n",
      "[2] paper, \n",
      "[3] quit \n",
      "\n",
      "Select: 3\n"
     ]
    }
   ],
   "source": [
    "caseTypes = [\"scissor\", \"rock\", \"paper\"]\n",
    "\n",
    "# Start of Answer\n",
    "import random\n",
    "\n",
    "def GenerateRandomCaseForComputer():\n",
    "    x=random.choice(caseTypes)\n",
    "    return x\n",
    "\n",
    "def MakeDecision(valueUser, valueComputer):\n",
    "    \n",
    "    if valueUser==\"scissor\" and valueComputer==\"paper\" or valueUser==\"rock\" and valueComputer==\"scissor\" or valueUser==\"paper\" and valueComputer==\"rock\":\n",
    "        return \"User\"\n",
    "    \n",
    "    elif valueUser==\"scissor\" and valueComputer==\"rock\" or valueUser==\"rock\" and valueComputer==\"paper\" or valueUser==\"paper\" and valueComputer==\"scissor\":\n",
    "        return \"Computer\"\n",
    "    \n",
    "    elif valueUser==valueComputer:\n",
    "        return \"Tie\"\n",
    "    \n",
    "    else:\n",
    "        return -1\n",
    "# End of Answer\n",
    "\n",
    "# Below is Execution Example, and can be removed.\n",
    "\n",
    "userInput = 0\n",
    "while True:\n",
    "    userInput = int(input(\"\\nMenu: \\n[0] scissor, \\n[1] rock, \\n[2] paper, \\n[3] quit \\n\\nSelect: \"))\n",
    "    if(userInput != 3):\n",
    "        valueUser = caseTypes[userInput]\n",
    "        valueComputer = GenerateRandomCaseForComputer()\n",
    "        valueDecision = MakeDecision(valueUser, valueComputer)\n",
    "        print(\"\\nResult: User [{0}] vs Computer [{1}] -> Winner is {2}\".format(valueUser, valueComputer, valueDecision))\n",
    "    else:\n",
    "        break"
   ]
  },
  {
   "cell_type": "code",
   "execution_count": null,
   "metadata": {},
   "outputs": [],
   "source": []
  }
 ],
 "metadata": {
  "kernelspec": {
   "display_name": "Python 3",
   "language": "python",
   "name": "python3"
  },
  "language_info": {
   "codemirror_mode": {
    "name": "ipython",
    "version": 3
   },
   "file_extension": ".py",
   "mimetype": "text/x-python",
   "name": "python",
   "nbconvert_exporter": "python",
   "pygments_lexer": "ipython3",
   "version": "3.7.6"
  }
 },
 "nbformat": 4,
 "nbformat_minor": 4
}
