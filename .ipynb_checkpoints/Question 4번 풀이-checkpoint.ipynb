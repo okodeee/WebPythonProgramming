{
 "cells": [
  {
   "cell_type": "code",
   "execution_count": 10,
   "metadata": {},
   "outputs": [],
   "source": [
    "def getResult(status):\n",
    "    if status.count('_')!=0:\n",
    "        return \"You lose\"\n",
    "    else:\n",
    "        return \"You win\""
   ]
  },
  {
   "cell_type": "code",
   "execution_count": 11,
   "metadata": {},
   "outputs": [],
   "source": [
    "def updateStatus(word, x, status):\n",
    "    new_status=\"\"\n",
    "    \n",
    "    if word.count('x')!=0:\n",
    "        new_status=status\n",
    "        return new_status\n",
    "    \n",
    "    else:\n",
    "        status_list=list(status)\n",
    "        for i in range(len(word)):\n",
    "            if x==word[i]:\n",
    "                status_list[i]=x\n",
    "                \n",
    "        for j in range(len(status_list)):\n",
    "            new_status=new_status+status_list[j]\n",
    "        return new_status"
   ]
  },
  {
   "cell_type": "code",
   "execution_count": 14,
   "metadata": {},
   "outputs": [],
   "source": [
    "def startGame(word):\n",
    "    count=len(word)\n",
    "    status='_'*count\n",
    "    \n",
    "    while count>0:\n",
    "        print(status)\n",
    "        x=input(\"{} chances. Enter a letter: \".format(count))\n",
    "        \n",
    "        count=count-1\n",
    "        status=updateStatus(word, x, status)\n",
    "        \n",
    "        if status==word:\n",
    "            break\n",
    "        \n",
    "    print(status)\n",
    "    \n",
    "    return getResult(status)"
   ]
  },
  {
   "cell_type": "code",
   "execution_count": 15,
   "metadata": {},
   "outputs": [
    {
     "name": "stdout",
     "output_type": "stream",
     "text": [
      "____________\n",
      "12 chances. Enter a letter: A\n",
      "________A___\n",
      "11 chances. Enter a letter: E\n",
      "________A___\n",
      "10 chances. Enter a letter: I\n",
      "_I______A___\n",
      "9 chances. Enter a letter: O\n",
      "_I__O_O_A___\n",
      "8 chances. Enter a letter: U\n",
      "_I__O_O_A_U_\n",
      "7 chances. Enter a letter: S\n",
      "_I__O_O_A_US\n",
      "6 chances. Enter a letter: H\n",
      "HI__O_O_A_US\n",
      "5 chances. Enter a letter: P\n",
      "HIPPOPO_A_US\n",
      "4 chances. Enter a letter: T\n",
      "HIPPOPOTA_US\n",
      "3 chances. Enter a letter: M\n",
      "HIPPOPOTAMUS\n",
      "You win\n"
     ]
    }
   ],
   "source": [
    "word = 'HIPPOPOTAMUS'\n",
    "result = startGame(word)\n",
    "print(result)"
   ]
  },
  {
   "cell_type": "code",
   "execution_count": null,
   "metadata": {},
   "outputs": [],
   "source": []
  }
 ],
 "metadata": {
  "kernelspec": {
   "display_name": "Python 3",
   "language": "python",
   "name": "python3"
  },
  "language_info": {
   "codemirror_mode": {
    "name": "ipython",
    "version": 3
   },
   "file_extension": ".py",
   "mimetype": "text/x-python",
   "name": "python",
   "nbconvert_exporter": "python",
   "pygments_lexer": "ipython3",
   "version": "3.7.6"
  }
 },
 "nbformat": 4,
 "nbformat_minor": 4
}
