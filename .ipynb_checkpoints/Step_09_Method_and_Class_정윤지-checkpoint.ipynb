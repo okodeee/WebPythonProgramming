{
 "cells": [
  {
   "cell_type": "markdown",
   "metadata": {},
   "source": [
    "# 수업 내용 이해"
   ]
  },
  {
   "cell_type": "markdown",
   "metadata": {},
   "source": [
    "프로그램을 개발하다 보면, Python에서 제공하는 연관된 데이터와 함수들을 묶어서 사용하면 좋겠다는 생각을 하게 됩니다.<br>\n",
    "모듈처럼 단순하게 하나의 화일에 물리적으로 모아 놓는 개념을 넘어서서, 데이터 값과 함수가 상호 의미적으로 연관되어 있는 의미있는 묶음을 의미합니다.<br>\n",
    "이런 경우 본 수업에서 설명하는 Class를 사용하게 됩니다.<br>\n",
    "본 수업에서는 일단 Class와 이에 속한 Methods의 개념을 이해하고, 이미 Python에서 제공하는 기능들을 사용해 봅니다.<br>\n",
    "나중에 우리는 스스로 본인만의 Class를 만들고 사용하게 될 것입니다."
   ]
  },
  {
   "cell_type": "markdown",
   "metadata": {},
   "source": [
    "## Method와 Class 개념 이해하기"
   ]
  },
  {
   "cell_type": "markdown",
   "metadata": {},
   "source": [
    "앞서의 수업에서 우리는 함수에 대해서 배웠으며, 다양한 형태의 함수가 있는 것을 알게 되었습니다.<br>\n",
    "\n",
    "(a) Built-in functions: Python 언어에서 기본 제공하는 함수<br>\n",
    "(b) Functions inside modules: 모듈에 포함되어 모듈을 import 한후 사용하는 함수 (예: 모듈명.함수명())<br>\n",
    "(c) Programmer defined functions: 프로그래머가 본인의 프로그램안에서 직접 만들어서 사용하는 함수<br>\n",
    "\n",
    "하지만 우리는 이미 다른 형태의 함수를 사용한 적이 있습니다.<br>\n",
    "바로 Step.7 Conditional Statement (조건문)에서 다음의 예제를 사용한 것이 있습니다.<br>\n",
    "\n",
    "```python\n",
    "sentence = 'Mary had a little lamb'\n",
    "sentence.count('a')\n",
    "```\n",
    "\n",
    "해당 코드를 살펴보면, 문자열인 ``sentence``의 뒤에 점(``.``)을 찍은후 ``count()`` 함수를 호출하는 것을 보았습니다.<br>\n",
    "이런 함수는 위의 (a)~(c)안에 포함이 되지 않는데, 이건 뭘까요?<br>\n",
    "\n",
    "이런 함수를 Python에서는 ``method``라고 부르는데, ``metohd``는 특정 타입에 포함된 함수로서, 특정 모듈에 포함된 함수와 비슷하지만 다릅니다.<br>\n",
    "특정 모듈에 함수가 포함된다는 것은, Step.8 모듈(Module)에서 수업한 것처럼, 특정 모듈의 화일에 함수를 만들어 넣은 것을 의미합니다.<br>\n",
    "이와 다르게 \"특정 타입\"이라는 것은, 점차 설명을 하겠지만, 관련성이 있는 \"데이터와 함수\"을 묶은 개념이라고 볼수 있습니다.<br>\n",
    "\n",
    "즉 위의 ``sentence``는 문자열(string) 타입 임을 우리는 알고 있습니다.<br>\n",
    "위의 예제에서, 이 문자열 타입인 ``sentence`` 안에는 ``Mary had a little lamb'``라는 데이터가 있으며, <br>\n",
    "본인의 데이터 안에 글자를 세는 ``count()``와 같은 함수도 묶여 있는 것입니다.<br>\n",
    "이런 데이터와 함수가 묶여있는 타입을 Python에서는 ``Class``라고 칭하며, ``Class``안의 함수들을 ``Method``라고 부릅니다.<br>\n",
    "또한 문자열 ``Class`` 타입에서 만들어진 ``sentence``를 ``객체(object)``라고 합니다.<br>\n",
    "\n",
    "특별히 ``Class``로 부터 만들어지는 객체들의 데이터와 함수는 **멤버 데이터**와 **멤버 Method**라고 하여, 특정 타입에 소속된 것임을 강조합니다.<br>\n",
    "\n",
    "결국 위의 문장을 다시 설명한다면 다음과 같습니다.<br>\n",
    "\n",
    "(1) String 타입의 ``Class``를 기반으로 sentence ``객체``를 생성함<br>\n",
    "(2) sentence ``객체``의 ``멤버 데이터``로 'Mary had a little lamb'를 저장함<br>\n",
    "(3) String 타입의 ``Class``면 사용할 수 있는 ``멤버 method``인 count()를 사용하여, 데이터 안에서 글자 'a'의 갯수를 카운트 함<br>\n",
    "\n",
    "설명한 ``String Class``의 ``멤버 Method``에 대해서 더 알고 싶다면, ``help(str)`` 구문을 아래 입력창에서 실행하여,<br>\n",
    "``String Class``의 ``멤버 method``를 살펴보고, 특별히 문자열의 글자를 모두 대문자로 바꾸는 ``upper()`` 함수를 다음 입력창에서 실행해 봅니다."
   ]
  },
  {
   "cell_type": "code",
   "execution_count": null,
   "metadata": {},
   "outputs": [],
   "source": []
  },
  {
   "cell_type": "code",
   "execution_count": null,
   "metadata": {},
   "outputs": [],
   "source": []
  },
  {
   "cell_type": "markdown",
   "metadata": {},
   "source": [
    "## Python의 기본 Class 이해하기"
   ]
  },
  {
   "cell_type": "markdown",
   "metadata": {},
   "source": [
    "앞서의 설명에서 우리는 ``Class``를 일종의 타입이라고 하였으며, 데이터와 함수(method)의 묶음이라고 정의했습니다.<br>\n",
    "이미 익숙하게 사용하는 정수, 실수도 문자열과 마찬가지로 ``Class``이며, 각각 ``int``와 ``float`` 타입 입니다.<br>\n",
    "\n",
    "아래의 입력창에 다음의 구문을 실행해서 직접 익숙한 데이터 타입의 ``Class``가 어떤 것인지를 확인해 봅니다.<br>\n",
    "\n",
    "```python\n",
    "print(type(17))\n",
    "print(type(17.0))\n",
    "print(type(\"17\"))\n",
    "```"
   ]
  },
  {
   "cell_type": "code",
   "execution_count": null,
   "metadata": {
    "scrolled": true
   },
   "outputs": [],
   "source": []
  },
  {
   "cell_type": "markdown",
   "metadata": {},
   "source": [
    "알아두면 요긴한 문자열 Class의 멤버 Method를 좀 더 실행해 보도록 합니다.<br>\n",
    "각각의 method에 대한 설명은 아래의 참조사이트에서 해당 method를 찾아 이해하기 바랍니다.<br>\n",
    "\\[참조문헌\\]: https://docs.python.org/3/library/stdtypes.html#text-sequence-type-str <br>\n",
    "\n",
    "아래의 입력창에 다음의 구문을 실행해서 문자열 Class의 멤버 method가 어떤 기능을 하는지를 확인해 봅니다.<br>\n",
    "\n",
    "```python\n",
    "tempString = \"Dr.Sungwon\"\n",
    "print(tempString.capitalize())\n",
    "print(tempString.upper())\n",
    "print(tempString.lower())\n",
    "print(tempString.center(20))\n",
    "print(tempString.count('.'))\n",
    "```"
   ]
  },
  {
   "cell_type": "code",
   "execution_count": null,
   "metadata": {},
   "outputs": [],
   "source": []
  },
  {
   "cell_type": "markdown",
   "metadata": {},
   "source": [
    "멤버 method를 실행하는 방법으로, 조금 이상할지 모르지만, 다음과 같이 정수/실수/문자열의 값에 바로 ``.``을 찍어서 method를 실행하기도 합니다.<br>\n",
    "\n",
    "나중을 위해서, 아래의 입력창에 다음의 구문을 실행해보기 바랍니다. <br>\n",
    "\n",
    "```python\n",
    "\"Dr.Sungwon\".capitalize()\n",
    "\"Dr.Sungwon\".upper()\n",
    "\"Dr.Sungwon\".lower()\n",
    "\"Dr.Sungwon\".center(20)\n",
    "\"Dr.Sungwon\".count('.')\n",
    "```"
   ]
  },
  {
   "cell_type": "code",
   "execution_count": null,
   "metadata": {},
   "outputs": [],
   "source": []
  },
  {
   "cell_type": "markdown",
   "metadata": {},
   "source": [
    "## 문자열 Class Methods 알아두기"
   ]
  },
  {
   "cell_type": "markdown",
   "metadata": {},
   "source": [
    "문자열 Class는 실제 문제 해결을 위하여 매우 많이 자주 사용되므로, 다음 Python 사이트의 ``String methods`` 부분을 꼭 읽어 보기 권합니다.<br>\n",
    "\\[참조문헌\\]: https://docs.python.org/3/library/stdtypes.html#text-sequence-type-str <br>\n",
    "\n",
    "특별히 ``format()``은 결과값의 형태를 규격화하기 위한 유용한 method 로서, 다음의 코드를 수행하고 이해하는 것을 반드시 스스로 해보도록 합니다.\n",
    "\n",
    "```python\n",
    "print('{0} ate {1} apples {2}'.format('I', '3', 'yesterday'))\n",
    "print('{0} ate {1} apples {2}'.format('You', '5', 'at 2 pm'))\n",
    "print('{1} ate {0} apples {2}'.format('5', 'You', 'at 2 pm'))\n",
    "print('{} ate {} apples {}'.format('I', '3', 'yesterday'))\n",
    "\n",
    "import math\n",
    "myPi = math.pi\n",
    "print('Pi rounded to {0} decimal places is {1:.2f}.'.format(2, myPi))\n",
    "print('Pi rounded to {0} decimal places is {1:.3f}.'.format(3, myPi))\n",
    "print('Pi rounded to {0} decimal places is {1:.4f}.'.format(4, myPi))\n",
    "\n",
    "mySentence = \"Pi rounded to {0} decimal places is {1:.4f}.\"\n",
    "print(mySentence.format(4, myPi))\n",
    "```"
   ]
  },
  {
   "cell_type": "code",
   "execution_count": null,
   "metadata": {},
   "outputs": [],
   "source": []
  },
  {
   "cell_type": "markdown",
   "metadata": {},
   "source": [
    "# 실습 (LAB)"
   ]
  },
  {
   "cell_type": "markdown",
   "metadata": {},
   "source": [
    "## 문자열 Methods 활용하기 (1)"
   ]
  },
  {
   "cell_type": "markdown",
   "metadata": {},
   "source": [
    "다음의 기능을 위에서 아래로 차례대로 실행하면서, 결과를 화면에 출력하는 프로그램을 아래 입력창에서 만들고 실행해서 결과를 확인합니다.<br>\n",
    "\n",
    "(1) ``name`` 이라는 변수를 생성하여 본인의 이름을 소문자 string 값으로 지정합니다.<br>\n",
    "(2) string method 중 하나를 사용하여 name의 첫번째 문자만 대문자로 바꾸어 화면에 출력합니다.<br>\n",
    "(3) string method 중 하나를 사용하여 name의 모든 문자를 대문자로 바꾸어 화면에 출력합니다.<br>\n",
    "(4) ``len()`` 함수를 사용하여 name의 문자 개수를 출력합니다.<br>\n",
    "(5) string method 중 하나를 사용하여 name에 포함된 'g'의 개수를 출력합니다.<br>"
   ]
  },
  {
   "cell_type": "code",
   "execution_count": null,
   "metadata": {},
   "outputs": [],
   "source": []
  },
  {
   "cell_type": "markdown",
   "metadata": {},
   "source": [
    "## 문자열 Methods 활용하기 (2)"
   ]
  },
  {
   "cell_type": "markdown",
   "metadata": {},
   "source": [
    "다음의 기능을 위에서 아래로 차례대로 실행하면서, 결과를 화면에 출력하는 프로그램을 아래 입력창에서 만들고 실행해서 결과를 확인합니다.<br>\n",
    "\n",
    "(1) string method인 ``find()``를 사용하여 'tomato'단어 안에 첫번째 'o' 의 위치(인덱스)를 찾아내어 출력하시오. <br>\n",
    "(2) string method인 ``find()``를 사용하여 'tomato'단어 안에 두번째 'o' 의 위치(인덱스)를 찾아내어 출력하시오."
   ]
  },
  {
   "cell_type": "code",
   "execution_count": null,
   "metadata": {},
   "outputs": [],
   "source": []
  },
  {
   "cell_type": "markdown",
   "metadata": {},
   "source": [
    "## 문자열 Methods를 이용한 크리스마스 트리 만들기"
   ]
  },
  {
   "cell_type": "markdown",
   "metadata": {},
   "source": [
    "사용자로부터 나무를 그리는데 사용할 문자 하나, 그리고 받침을 그리는데 사용할 문자 하나를 입력 받습니다.<br>\n",
    "다음은 실행 예제로서, 아래와 같은 결과가 화면에 나타날 수 있도록, 문자열 Methods를 충분히 활용하여 프로그램을 만들고 실행합니다.<br>\n",
    "\n",
    "Enter your code for tree: *<br>\n",
    "Enter your code for floor: #<br>\n",
    "          *          \n",
    "         ***         \n",
    "        *****        \n",
    "       *******       \n",
    "      *********    \n",
    "     ***********     \n",
    "    *************   \n",
    "         ###         \n",
    "         ###         \n",
    "         ### "
   ]
  },
  {
   "cell_type": "code",
   "execution_count": null,
   "metadata": {},
   "outputs": [],
   "source": []
  }
 ],
 "metadata": {
  "kernelspec": {
   "display_name": "Python 3",
   "language": "python",
   "name": "python3"
  },
  "language_info": {
   "codemirror_mode": {
    "name": "ipython",
    "version": 3
   },
   "file_extension": ".py",
   "mimetype": "text/x-python",
   "name": "python",
   "nbconvert_exporter": "python",
   "pygments_lexer": "ipython3",
   "version": "3.7.6"
  }
 },
 "nbformat": 4,
 "nbformat_minor": 2
}
