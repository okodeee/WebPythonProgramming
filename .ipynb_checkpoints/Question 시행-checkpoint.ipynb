{
 "cells": [
  {
   "cell_type": "markdown",
   "metadata": {},
   "source": [
    "# SWCON104 Web/Python Programming 2020-1 Midterm Assignment\n"
   ]
  },
  {
   "cell_type": "markdown",
   "metadata": {},
   "source": [
    "- File Name: StudentID_YourName.ipynb (Ex: 1234567890_홍길동.ipynb) <Br>\n",
    "- Submission Due: 2020/05/04 23:50 <br>"
   ]
  },
  {
   "cell_type": "markdown",
   "metadata": {},
   "source": [
    "Answer for Question.1"
   ]
  },
  {
   "cell_type": "code",
   "execution_count": 6,
   "metadata": {},
   "outputs": [
    {
     "name": "stdout",
     "output_type": "stream",
     "text": [
      "40320\n"
     ]
    }
   ],
   "source": [
    "# Start of Answer\n",
    "def CalcFactorial(N):\n",
    "    \n",
    "    if type(N)!=int:\n",
    "        return -1\n",
    "    \n",
    "    elif N<=0:\n",
    "        return -2\n",
    "    \n",
    "    else:\n",
    "        factorial=N\n",
    "        while N>=2:\n",
    "            N=N-1\n",
    "            factorial=factorial*N\n",
    "        return factorial\n",
    "# End of Answer\n",
    "\n",
    "# Below is Execution Example, and can be removed.\n",
    "\n",
    "print(CalcFactorial(8))"
   ]
  },
  {
   "cell_type": "markdown",
   "metadata": {},
   "source": [
    "Answer for Question.2"
   ]
  },
  {
   "cell_type": "code",
   "execution_count": 7,
   "metadata": {},
   "outputs": [
    {
     "name": "stdout",
     "output_type": "stream",
     "text": [
      "\n",
      "Menu: \n",
      "[0] scissor, \n",
      "[1] rock, \n",
      "[2] paper, \n",
      "[3] quit \n",
      "\n",
      "Select: 2\n",
      "\n",
      "Result: User [paper] vs Computer [scissor] -> Winner is Computer\n",
      "\n",
      "Menu: \n",
      "[0] scissor, \n",
      "[1] rock, \n",
      "[2] paper, \n",
      "[3] quit \n",
      "\n",
      "Select: 0\n",
      "\n",
      "Result: User [scissor] vs Computer [scissor] -> Winner is Tie\n",
      "\n",
      "Menu: \n",
      "[0] scissor, \n",
      "[1] rock, \n",
      "[2] paper, \n",
      "[3] quit \n",
      "\n",
      "Select: 0\n",
      "\n",
      "Result: User [scissor] vs Computer [rock] -> Winner is Computer\n",
      "\n",
      "Menu: \n",
      "[0] scissor, \n",
      "[1] rock, \n",
      "[2] paper, \n",
      "[3] quit \n",
      "\n",
      "Select: 1\n",
      "\n",
      "Result: User [rock] vs Computer [rock] -> Winner is Tie\n",
      "\n",
      "Menu: \n",
      "[0] scissor, \n",
      "[1] rock, \n",
      "[2] paper, \n",
      "[3] quit \n",
      "\n",
      "Select: 0\n",
      "\n",
      "Result: User [scissor] vs Computer [rock] -> Winner is Computer\n",
      "\n",
      "Menu: \n",
      "[0] scissor, \n",
      "[1] rock, \n",
      "[2] paper, \n",
      "[3] quit \n",
      "\n",
      "Select: 1\n",
      "\n",
      "Result: User [rock] vs Computer [paper] -> Winner is Computer\n",
      "\n",
      "Menu: \n",
      "[0] scissor, \n",
      "[1] rock, \n",
      "[2] paper, \n",
      "[3] quit \n",
      "\n",
      "Select: 2\n",
      "\n",
      "Result: User [paper] vs Computer [rock] -> Winner is User\n",
      "\n",
      "Menu: \n",
      "[0] scissor, \n",
      "[1] rock, \n",
      "[2] paper, \n",
      "[3] quit \n",
      "\n",
      "Select: 3\n"
     ]
    }
   ],
   "source": [
    "caseTypes = [\"scissor\", \"rock\", \"paper\"]\n",
    "\n",
    "# Start of Answer\n",
    "import random\n",
    "\n",
    "def GenerateRandomCaseForComputer():\n",
    "    x=random.choice([\"scissor\", \"rock\", \"paper\"])\n",
    "    return x\n",
    "\n",
    "def MakeDecision(valueUser, valueComputer):\n",
    "    \n",
    "    if valueUser==\"scissor\" and valueComputer==\"paper\" or valueUser==\"rock\" and valueComputer==\"scissor\" or valueUser==\"paper\" and valueComputer==\"rock\":\n",
    "        return \"User\"\n",
    "    \n",
    "    elif valueUser==\"scissor\" and valueComputer==\"rock\" or valueUser==\"rock\" and valueComputer==\"paper\" or valueUser==\"paper\" and valueComputer==\"scissor\":\n",
    "        return \"Computer\"\n",
    "    \n",
    "    elif valueUser==valueComputer:\n",
    "        return \"Tie\"\n",
    "    \n",
    "    else:\n",
    "        return -1\n",
    "# End of Answer\n",
    "\n",
    "# Below is Execution Example, and can be removed.\n",
    "\n",
    "userInput = 0\n",
    "while True:\n",
    "    userInput = int(input(\"\\nMenu: \\n[0] scissor, \\n[1] rock, \\n[2] paper, \\n[3] quit \\n\\nSelect: \"))\n",
    "    if(userInput != 3):\n",
    "        valueUser = caseTypes[userInput]\n",
    "        valueComputer = GenerateRandomCaseForComputer()\n",
    "        valueDecision = MakeDecision(valueUser, valueComputer)\n",
    "        print(\"\\nResult: User [{0}] vs Computer [{1}] -> Winner is {2}\".format(valueUser, valueComputer, valueDecision))\n",
    "    else:\n",
    "        break"
   ]
  },
  {
   "cell_type": "markdown",
   "metadata": {},
   "source": [
    "Answer for Question.3"
   ]
  },
  {
   "cell_type": "code",
   "execution_count": 8,
   "metadata": {},
   "outputs": [],
   "source": [
    "def isPrime(num, L):\n",
    "    L.extend([num, 1])\n",
    "    \n",
    "    for i in range(2, num):\n",
    "        if num%i==0:\n",
    "            L.append(i)\n",
    "    \n",
    "    if len(L)!=2:\n",
    "        L.sort()\n",
    "        print(L)\n",
    "        \n",
    "    return len(L)==2\n",
    "    # Implement the function here\n",
    "    # If syntax error occurs, no point will be given for this function\n",
    "    # Do not change the function header"
   ]
  },
  {
   "cell_type": "code",
   "execution_count": 12,
   "metadata": {},
   "outputs": [
    {
     "name": "stdout",
     "output_type": "stream",
     "text": [
      "[1, 3, 7, 21]\n",
      "False\n"
     ]
    }
   ],
   "source": [
    "ans = isPrime(21,[])  # This cell is for your confirmation, can be removed.\n",
    "print(ans)           # If correctly implemented, [1,2,4,8] is printed first, and False is printed at the next line."
   ]
  },
  {
   "cell_type": "markdown",
   "metadata": {},
   "source": [
    "Answer for Question.4"
   ]
  },
  {
   "cell_type": "code",
   "execution_count": 13,
   "metadata": {},
   "outputs": [],
   "source": [
    "def getResult(status):\n",
    "    if status.count('_')!=0:\n",
    "        return \"You lose\"\n",
    "    else:\n",
    "        return \"You win\"\n",
    "    # Implement the function here.\n",
    "    # If syntax error occurs, no point will be given for this function\n",
    "    # Do not change the function header"
   ]
  },
  {
   "cell_type": "code",
   "execution_count": 14,
   "metadata": {},
   "outputs": [],
   "source": [
    "def updateStatus(word, x, status):\n",
    "    new_status=\"\"\n",
    "    \n",
    "    if word.count('x')!=0:\n",
    "        new_status=status\n",
    "        return new_status\n",
    "    \n",
    "    else:\n",
    "        status_list=list(status)\n",
    "        for i in range(len(word)):\n",
    "            if x==word[i]:\n",
    "                status_list[i]=x\n",
    "                \n",
    "        for j in range(len(status_list)):\n",
    "            new_status=new_status+status_list[j]\n",
    "        return new_status\n",
    "    # Implement the function here.\n",
    "    # If syntax error occurs, no point will be given for this function\n",
    "    # Do not change the function header\n",
    "    # Hint: use str.count() and str.find(). Not mendatory."
   ]
  },
  {
   "cell_type": "code",
   "execution_count": 15,
   "metadata": {},
   "outputs": [],
   "source": [
    "def startGame(word):\n",
    "    count=len(word)\n",
    "    status='_'*count\n",
    "    \n",
    "    while count>0:\n",
    "        print(status)\n",
    "        x=input(\"{} chances. Enter a letter: \".format(count))\n",
    "        \n",
    "        count=count-1\n",
    "        status=updateStatus(word, x, status)\n",
    "        \n",
    "        if status==word:\n",
    "            break\n",
    "        \n",
    "    print(status)\n",
    "    \n",
    "    return getResult(status)\n",
    "    # Implement the function here.\n",
    "    # If syntax error occurs, no point will be given for this function\n",
    "    # Do not change the function header\n",
    "    # Hint: use input() inside while-loop."
   ]
  },
  {
   "cell_type": "code",
   "execution_count": 16,
   "metadata": {},
   "outputs": [
    {
     "name": "stdout",
     "output_type": "stream",
     "text": [
      "____________\n",
      "12 chances. Enter a letter: H\n",
      "H___________\n",
      "11 chances. Enter a letter: I\n",
      "HI__________\n",
      "10 chances. Enter a letter: P\n",
      "HIPP_P______\n",
      "9 chances. Enter a letter: O\n",
      "HIPPOPO_____\n",
      "8 chances. Enter a letter: T\n",
      "HIPPOPOT____\n",
      "7 chances. Enter a letter: A\n",
      "HIPPOPOTA___\n",
      "6 chances. Enter a letter: M\n",
      "HIPPOPOTAM__\n",
      "5 chances. Enter a letter: U\n",
      "HIPPOPOTAMU_\n",
      "4 chances. Enter a letter: S\n",
      "HIPPOPOTAMUS\n",
      "You win\n"
     ]
    }
   ],
   "source": [
    "word = 'HIPPOPOTAMUS'    # This cell is for your confirmation, can be removed.\n",
    "result = startGame(word) # If correctly implemented, the result should be \n",
    "print(result)            # as the program execution example figure in your question sheet."
   ]
  },
  {
   "cell_type": "code",
   "execution_count": null,
   "metadata": {},
   "outputs": [],
   "source": []
  }
 ],
 "metadata": {
  "kernelspec": {
   "display_name": "Python 3",
   "language": "python",
   "name": "python3"
  },
  "language_info": {
   "codemirror_mode": {
    "name": "ipython",
    "version": 3
   },
   "file_extension": ".py",
   "mimetype": "text/x-python",
   "name": "python",
   "nbconvert_exporter": "python",
   "pygments_lexer": "ipython3",
   "version": "3.7.6"
  }
 },
 "nbformat": 4,
 "nbformat_minor": 2
}
