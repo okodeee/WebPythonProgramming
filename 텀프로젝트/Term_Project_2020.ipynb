{
 "cells": [
  {
   "cell_type": "markdown",
   "metadata": {},
   "source": [
    "# Term Project 설명"
   ]
  },
  {
   "cell_type": "markdown",
   "metadata": {},
   "source": [
    "웹/파이선 프로그래밍 수업에서 우리는 Python 언어를 활용하여 소프트웨어를 설계하고 구현하는 방법을 배웁니다. \n",
    "또한, 수업의 마지막 4주간, 여러분은 Python을 활용하는 주요 사례 중 하나인 \"웹을 통한 정보 획득과 분석\"을 배웁니다.\n",
    "이에 학기말까지 여러분은 본인이 관심있는 분야의 데이터를 직접 인터넷에서 Python 언어를 통해 획득 및 분석하는 작업을 텀프로젝트로 수행해보도록 합니다.\n",
    "텀프로젝트의 필수조건은 Python을 활용한 의미있는 소프트웨어의 제작입니다.\n",
    "웹을 통한 데이터의 획득 및 분석은 권장사항으로, 필수조건은 아닙니다.\n",
    "즉, 본인이 원한다면 Python을 활용하여 게임을 제작해도 괜찮습니다.\n",
    "다만, 나름대로 의미있는 소프트웨어를 제작해야 하며, 그 의미를 보고서를 통해 충분히 설명할수 있어야 합니다.\n",
    "Python을 활용하는 것은 필수조건이지만 다른 언어를 함께 활용해도 괜찮습니다.\n",
    "오픈소스 라이브러리 활용도 적극 권장합니다.\n",
    "\n",
    "텀프로젝트는 계획서(proposal), 중간보고서(interim report), 결과보고서(final report)를 제출합니다.\n",
    "최종 완성된 소프트웨어 소스코드는 결과보고서와 함께 제출하되, 보고서 안에 결과와 함께 포함하여도 무방합니다.\n",
    "모든 보고서는 Jupyter notebook으로 제작하며 다음 내용이 포함되어야 합니다.\n",
    "\n",
    "0) 주제: 주제를 보기 쉽게 굵은 글씨로 제일 위에 제목으로 적어주세요. (한문장) <br>\n",
    "1) 프로젝트 목표 및 내용: 주제에 대한 설명 및 본 프로젝트가 지향하는 최종목표 <br>\n",
    "2) 주제 선정 이유 또는 이 프로젝트의 필요성: 수행하고자 하는 연구가설 및 연구가설의 도출근거를 기술<br>\n",
    "3) 데이터 획득: 어디서, 어떤 데이터를 어떻게 획득했는지 설명 (해당사항 없으면 생략)<br>\n",
    "4) 구현 내용 설명: 획득한 데이터를 어떻게 가공했는지, 어떤 정보를 어떻게 추출했는지, 소프트웨어의 기능이 무엇인지, 소프트웨어 동작 방법은 어떻게 되는지 등을 자유롭게 설명. (필요한 경우 소프트웨어 스크린샷 등 포함)<br>\n",
    "5) 분석 결과 또는 구현 결과: 수학적/논리적 방법론을 python으로 구현하여 데이터를 분석 및 결과를 보임 (그래프 등)<br>\n",
    "6) 결론: 프로젝트 목표를 이루었는지, 본인의 명제/논리가 증명/확인 되었는지 구체적으로 서술<br>\n",
    "7) 오픈소스 활용한 부분 명시: 활용한 오픈소스의 출처와 본인 코드에서 활용한 부분 명시. 본인이 직접 구현한 부분 명시.<br>\n",
    "8) 참고문헌: 프로젝트를 위해 획득한 자료, 인터넷 정보, 논문, 도서 등의 출처를 나열.<br>\n",
    "9) 별첨: 3)의 획득한 데이터 원본 (너무 큰 경우 링크)<br>\n",
    "10) 별첨: 4)의 가공한 데이터 원본<br>\n",
    "11) 별첨: 프로젝트를 위해 본인이 직접 개발한 python 소스코드 원본<br>\n",
    "\n",
    "계획서: 0-2 필수, 3-4에 대한 계획 서술. 5-11 생략가능.<br>\n",
    "중간보고서: 0-3 필수. 주제가 변경됐다면 2에 변경 이유 함께 서술. 4에 대한 계획 필수. 5-11 생략가능.<br>\n",
    "결과보고서: 기본적으로 모든 항목에 대하여 서술. 주제에 따라 해당사항 없는 경우 적절히 항목 생략가능. 주제가 변경됐다면 2에 변경 이유 함께 서술.<br>\n",
    "\n",
    "\n",
    "제출된 Term Project는 웹사이트를 통해서 전체 공지하여 필요한 사람이 참조하도록 합니다.<br>\n",
    "아울러 **인터넷/블로그/도서를 통한 유사 작업을 그대로 제출하는 행위를 일체 금지하며, 적발시 본 과목의 전체 성적을 0점 처리**하게 됩니다.<br>\n",
    "조교의 인터넷 검색을 통한 원본 확인과,<br>\n",
    "특히 공개된 Term Proejct를 통해서 타 자료를 그대로 제출한 것이 제보되면 제보자에 인센티브를 제공할 예정이니, 본인의 실력 향상에만 집중하기 바랍니다."
   ]
  },
  {
   "cell_type": "markdown",
   "metadata": {},
   "source": [
    "# 참조 자료"
   ]
  },
  {
   "cell_type": "markdown",
   "metadata": {},
   "source": [
    "## Python을 통한 공공 정보 Open API 접근"
   ]
  },
  {
   "cell_type": "markdown",
   "metadata": {},
   "source": [
    "- 정부 3.0 공공 데이터 : http://www.data.go.kr/\n",
    "\n",
    "\n",
    "- 서울시 열린 데이터 광장 : http://data.seoul.go.kr/"
   ]
  },
  {
   "cell_type": "markdown",
   "metadata": {},
   "source": [
    "## Python을 통한 SNS Open API 접근"
   ]
  },
  {
   "cell_type": "markdown",
   "metadata": {},
   "source": [
    "- 네이버 : https://developers.naver.com/docs/common/openapiguide/\n",
    "\n",
    "\n",
    "- Facebook : https://facebook-sdk.readthedocs.io/en/latest/\n",
    "\n",
    "\n",
    "- Twitter : https://developer.twitter.com/en/docs/developer-utilities/twitter-libraries.html\n",
    "\n",
    "\n",
    "- Instagram : https://www.instagram.com/developer/libraries/"
   ]
  },
  {
   "cell_type": "markdown",
   "metadata": {},
   "source": [
    "## Python을 이용한 데이터 분석 도구"
   ]
  },
  {
   "cell_type": "markdown",
   "metadata": {},
   "source": [
    "- Pandas : https://pandas.pydata.org/ <br>\n",
    "\n",
    "\n",
    "- Tensoflow : https://www.tensorflow.org/?hl=ko <br>"
   ]
  },
  {
   "cell_type": "markdown",
   "metadata": {},
   "source": [
    "## 참조 도서"
   ]
  },
  {
   "cell_type": "markdown",
   "metadata": {},
   "source": [
    "- \"파이썬으로 데이터 주무르기 독특한 예제를 통해 배우는 데이터 분석 입문\", 민형기 지음, 비제이퍼블릭, 2017년 12월 29일 출간<br>\n",
    "http://www.kyobobook.co.kr/product/detailViewKor.laf?ejkGb=KOR&mallGb=KOR&barcode=9791186697474&orderClick=LEA&Kc=<br>\n",
    "\n",
    "\n",
    "- \"파이썬을 이용한 빅데이터 수집, 분석과 시각화 페이스북 트위터 네이버 공공 일반 웹 데이터 기반\", 이원하 지음 | 비팬북스 | 2017년 06월 20일 출간<br>\n",
    "http://www.kyobobook.co.kr/product/detailViewKor.laf?ejkGb=KOR&mallGb=KOR&barcode=9788994797694&orderClick=LAH&Kc=<br>"
   ]
  },
  {
   "cell_type": "markdown",
   "metadata": {},
   "source": [
    "## 참고 사이트"
   ]
  },
  {
   "cell_type": "markdown",
   "metadata": {},
   "source": [
    "- 정부3.0 공공 데이터 포털 API 사용하기<br>\n",
    "https://ericnjennifer.github.io/python_crawling/2018/01/05/PythonCrawling_Chapt5.html<br>\n",
    "\n",
    "\n",
    "- 오픈 API를 통한 공공데이터 수집<br>\n",
    "https://medium.com/@whj2013123218/%EC%98%A4%ED%94%88-api%EB%A5%BC-%ED%86%B5%ED%95%9C-%EA%B3%B5%EA%B3%B5%EB%8D%B0%EC%9D%B4%ED%84%B0-%EC%88%98%EC%A7%91-e1dd0ad203b6<br>\n",
    "\n",
    "\n",
    "- 파이썬을 이용한 빅데이터 수집. 분석과 시각화<br>\n",
    "https://snscrawler.files.wordpress.com/2017/07/python-data-crawling.pdf\n",
    "https://snscrawler.files.wordpress.com/2017/07/part1_eb8db0ec9db4ed84b0-ec82acec9aa9ec9d84-ec9c84ed959c-eab384eca095-ec84a4eca095.pdf"
   ]
  }
 ],
 "metadata": {
  "kernelspec": {
   "display_name": "Python 3",
   "language": "python",
   "name": "python3"
  },
  "language_info": {
   "codemirror_mode": {
    "name": "ipython",
    "version": 3
   },
   "file_extension": ".py",
   "mimetype": "text/x-python",
   "name": "python",
   "nbconvert_exporter": "python",
   "pygments_lexer": "ipython3",
   "version": "3.7.6"
  }
 },
 "nbformat": 4,
 "nbformat_minor": 2
}
