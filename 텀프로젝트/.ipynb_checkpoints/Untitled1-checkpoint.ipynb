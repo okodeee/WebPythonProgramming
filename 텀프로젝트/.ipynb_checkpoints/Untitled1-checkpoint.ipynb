{
 "cells": [
  {
   "cell_type": "code",
   "execution_count": 8,
   "metadata": {},
   "outputs": [
    {
     "name": "stdout",
     "output_type": "stream",
     "text": [
      "한 명씩 이름을 입력하고 직업을 확인하세요!(ex.홍길동): 가\n",
      "의사\n",
      "한 명씩 이름을 입력하고 직업을 확인하세요!(ex.홍길동): 나\n",
      "경찰\n",
      "한 명씩 이름을 입력하고 직업을 확인하세요!(ex.홍길동): 다\n",
      "시민\n",
      "한 명씩 이름을 입력하고 직업을 확인하세요!(ex.홍길동): 라\n",
      "마피아\n",
      "한 명씩 이름을 입력하고 직업을 확인하세요!(ex.홍길동): 마\n",
      "시민\n"
     ]
    }
   ],
   "source": [
    "import random\n",
    "\n",
    "rolls=['마피아', '경찰', '의사', '시민', '시민']\n",
    "\n",
    "while len(rolls)>0:\n",
    "    name=input('한 명씩 이름을 입력하고 직업을 확인하세요!(ex.홍길동): ')\n",
    "    name=[0,0]\n",
    "    name[0]=random.choice(rolls)\n",
    "    rolls.remove(name[0])\n",
    "    print(name[0])\n",
    "    \n"
   ]
  },
  {
   "cell_type": "code",
   "execution_count": null,
   "metadata": {},
   "outputs": [],
   "source": []
  }
 ],
 "metadata": {
  "kernelspec": {
   "display_name": "Python 3",
   "language": "python",
   "name": "python3"
  },
  "language_info": {
   "codemirror_mode": {
    "name": "ipython",
    "version": 3
   },
   "file_extension": ".py",
   "mimetype": "text/x-python",
   "name": "python",
   "nbconvert_exporter": "python",
   "pygments_lexer": "ipython3",
   "version": "3.7.6"
  }
 },
 "nbformat": 4,
 "nbformat_minor": 4
}
