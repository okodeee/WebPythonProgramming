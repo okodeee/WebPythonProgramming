{
 "cells": [
  {
   "cell_type": "code",
   "execution_count": null,
   "metadata": {},
   "outputs": [],
   "source": [
    "함수1. 사람들 이름을 받아서 직업 분배하는? 함수"
   ]
  },
  {
   "cell_type": "code",
   "execution_count": null,
   "metadata": {},
   "outputs": [],
   "source": [
    "함수2. 낮에 투표해서 한 명 삭제 -> 그 사람의 정체 (마피아 or not) 공개"
   ]
  },
  {
   "cell_type": "code",
   "execution_count": null,
   "metadata": {},
   "outputs": [],
   "source": [
    "함수3. 밤마다 각자 이름은 힘들고,, 직업 입력하면 각자 능력 수행"
   ]
  },
  {
   "cell_type": "code",
   "execution_count": null,
   "metadata": {},
   "outputs": [],
   "source": [
    "(맨 처음에 그 시간을 입력하자. 투표시간) 나중에 추가"
   ]
  },
  {
   "cell_type": "code",
   "execution_count": null,
   "metadata": {},
   "outputs": [],
   "source": [
    "(맨처음에 import random 설정해야함)"
   ]
  },
  {
   "cell_type": "code",
   "execution_count": 3,
   "metadata": {},
   "outputs": [],
   "source": []
  },
  {
   "cell_type": "code",
   "execution_count": null,
   "metadata": {},
   "outputs": [],
   "source": []
  },
  {
   "cell_type": "code",
   "execution_count": null,
   "metadata": {},
   "outputs": [
    {
     "name": "stdout",
     "output_type": "stream",
     "text": [
      "5인 마피아 게임을 진행하겠습니다.\n",
      "한 명씩 이름을 입력하세요(ex.홍길동): 가\n",
      "한 명씩 이름을 입력하세요(ex.홍길동): 나\n",
      "한 명씩 이름을 입력하세요(ex.홍길동): 다\n",
      "한 명씩 이름을 입력하세요(ex.홍길동): 라\n",
      "한 명씩 이름을 입력하세요(ex.홍길동): 마\n",
      "[['가', 0, 0], ['나', 0, 0], ['다', 0, 0], ['라', 0, 0], ['마', 0, 0]]\n",
      "[['가', '마피아', 0], ['나', '의사', 0], ['다', '시민', 0], ['라', '경찰', 0], ['마', '시민', 0]]\n",
      "한 명씩 직업을 확인하세요(ex.홍길동): 가\n",
      "당신의 직업은 마피아 입니다!\n",
      "한 명씩 직업을 확인하세요(ex.홍길동): 나\n",
      "당신의 직업은 의사 입니다!\n",
      "한 명씩 직업을 확인하세요(ex.홍길동): 다\n",
      "당신의 직업은 시민 입니다!\n",
      "한 명씩 직업을 확인하세요(ex.홍길동): 라\n",
      "당신의 직업은 경찰 입니다!\n",
      "한 명씩 직업을 확인하세요(ex.홍길동): 마\n",
      "당신의 직업은 시민 입니다!\n",
      "지금은 낮입니다! 자기소개가 끝나면 1을 입력해주세요!1\n",
      "지금은 밤입니다!\n",
      "한 명씩 직업 능력을 사용하세요!(ex.마피아, 경찰, 의사, 시민): 마피아\n",
      "죽일 사람 한 명을 입력하세요: 나\n",
      "한 명씩 직업 능력을 사용하세요!(ex.마피아, 경찰, 의사, 시민): 의사\n",
      "살릴 사람 한 명을 입력하세요: 나\n",
      "한 명씩 직업 능력을 사용하세요!(ex.마피아, 경찰, 의사, 시민): 경찰\n",
      "마피아로 의심되는 한 명을 입력하세요: 가\n",
      "가 는 마피아가 맞습니다!\n",
      "한 명씩 직업 능력을 사용하세요!(ex.마피아, 경찰, 의사, 시민): 시민\n",
      "타자 소리를 위해 한 명을 입력하세요!/n게임에는 아무 영향이 없습니다!: 가\n",
      "한 명씩 직업 능력을 사용하세요!(ex.마피아, 경찰, 의사, 시민): 시민\n",
      "타자 소리를 위해 한 명을 입력하세요!/n게임에는 아무 영향이 없습니다!: 나\n",
      "지금은 낮입니다!\n",
      "투표를 하여 마피아로 의심되는 한 명을 입력하세요: 가\n",
      "가 는 마피아가 맞습니다!/n시민의 승리입니다!\n",
      "지금은 낮입니다!\n"
     ]
    }
   ],
   "source": [
    "import random\n",
    "rolls=['마피아', '경찰', '의사', '시민', '시민']\n",
    "players=[]\n",
    "\n",
    "print('5인 마피아 게임을 진행하겠습니다.')\n",
    "\n",
    "for i in range(5):\n",
    "    x=input('한 명씩 이름을 입력하세요(ex.홍길동): ')\n",
    "    players.append([x,0,0])\n",
    "    i+=1\n",
    "    \n",
    "print(players)\n",
    "\n",
    "for i in range(len(players)):\n",
    "    players[i][1]=random.choice(rolls)\n",
    "    rolls.remove(players[i][1])\n",
    "    i+=1\n",
    "    \n",
    "print(players)\n",
    "for i in range(len(players)):\n",
    "    check=input('한 명씩 직업을 확인하세요(ex.홍길동): ')\n",
    "    for j in range(len(players)):\n",
    "        if players[j][0]==check:\n",
    "            print('당신의 직업은', players[j][1],'입니다!')\n",
    "\n",
    "            \n",
    "time=2\n",
    "\n",
    "input('지금은 낮입니다! 자기소개가 끝나면 1을 입력해주세요!')\n",
    "time+=1\n",
    "\n",
    "while len(players)>2:\n",
    "    \n",
    "    if time%2==0:\n",
    "        print('지금은 낮입니다!')\n",
    "        for i in range(len(players)):\n",
    "            if players[i][2]==1:\n",
    "                print('밤 사이에 ', players[i][0], '가 살해당했습니다.')\n",
    "                players.remove([players[i][0], players[i][1], players[i][2]])\n",
    "                for i in range(len(players)):\n",
    "                    players[i][2]=0\n",
    "                \n",
    "        voted_player=input('투표를 하여 마피아로 의심되는 한 명을 입력하세요: ')\n",
    "        for i in range(len(players)):\n",
    "            if players[i][0]==voted_player:\n",
    "                if players[i][1]=='마피아':\n",
    "                    print(voted_player, '는 마피아가 맞습니다!/n시민의 승리입니다!')\n",
    "                    break;\n",
    "\n",
    "                else:\n",
    "                    print(voted_player, '는 마피아가 아닙니다!')\n",
    "                    players.remove([players[i][0], players[i][1], players[i][2]])\n",
    "                    time+=1\n",
    "                    \n",
    "    else:\n",
    "        print('지금은 밤입니다!')\n",
    "        for i in range(len(players)):\n",
    "            i+=1\n",
    "            roll=input('한 명씩 직업 능력을 사용하세요!(ex.마피아, 경찰, 의사, 시민): ')\n",
    "            if roll=='마피아':\n",
    "                kill_player=input('죽일 사람 한 명을 입력하세요: ')\n",
    "                for i in range(len(players)):\n",
    "                    if players[i][0]==kill_player:\n",
    "                        players[i][2]+=1\n",
    "                        \n",
    "            elif roll=='경찰':\n",
    "                identify_player=input('마피아로 의심되는 한 명을 입력하세요: ')\n",
    "                for i in range(len(players)):\n",
    "                    if players[i][0]==identify_player:\n",
    "                        if players[i][1]=='마피아':\n",
    "                            print(identify_player, '는 마피아가 맞습니다!')\n",
    "                            \n",
    "                        else:\n",
    "                            print(identify_player, '는 마피아가 아닙니다!')\n",
    "                            \n",
    "            elif roll=='의사':\n",
    "                save_player=input('살릴 사람 한 명을 입력하세요: ')\n",
    "                for i in range(len(players)):\n",
    "                    if players[i][0]==save_player:\n",
    "                        if players[i][2]==1:\n",
    "                            players[i][2]-=1\n",
    "                            \n",
    "            else:\n",
    "                input('타자 소리를 위해 한 명을 입력하세요!\\n게임에는 아무 영향이 없습니다!: ')\n",
    "                \n",
    "        time+=1\n",
    "        \n",
    "print('마피아의 승리입니다!')"
   ]
  },
  {
   "cell_type": "code",
   "execution_count": null,
   "metadata": {},
   "outputs": [],
   "source": []
  }
 ],
 "metadata": {
  "kernelspec": {
   "display_name": "Python 3",
   "language": "python",
   "name": "python3"
  },
  "language_info": {
   "codemirror_mode": {
    "name": "ipython",
    "version": 3
   },
   "file_extension": ".py",
   "mimetype": "text/x-python",
   "name": "python",
   "nbconvert_exporter": "python",
   "pygments_lexer": "ipython3",
   "version": "3.7.6"
  }
 },
 "nbformat": 4,
 "nbformat_minor": 4
}
