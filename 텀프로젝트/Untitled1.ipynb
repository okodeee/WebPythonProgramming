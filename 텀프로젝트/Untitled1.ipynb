{
 "cells": [
  {
   "cell_type": "code",
   "execution_count": 11,
   "metadata": {},
   "outputs": [
    {
     "name": "stdout",
     "output_type": "stream",
     "text": [
      "한 명씩 이름을 입력하고 직업을 확인하세요!(ex.홍길동): 가\n",
      "시민\n",
      "한 명씩 이름을 입력하고 직업을 확인하세요!(ex.홍길동): 나\n",
      "시민\n",
      "한 명씩 이름을 입력하고 직업을 확인하세요!(ex.홍길동): 다\n",
      "의사\n",
      "한 명씩 이름을 입력하고 직업을 확인하세요!(ex.홍길동): 라\n",
      "경찰\n",
      "한 명씩 이름을 입력하고 직업을 확인하세요!(ex.홍길동): 마\n",
      "마피아\n"
     ]
    },
    {
     "ename": "NameError",
     "evalue": "name '가' is not defined",
     "output_type": "error",
     "traceback": [
      "\u001b[1;31m---------------------------------------------------------------------------\u001b[0m",
      "\u001b[1;31mNameError\u001b[0m                                 Traceback (most recent call last)",
      "\u001b[1;32m<ipython-input-11-37b85f64ab49>\u001b[0m in \u001b[0;36m<module>\u001b[1;34m\u001b[0m\n\u001b[0;32m     10\u001b[0m     \u001b[0mprint\u001b[0m\u001b[1;33m(\u001b[0m\u001b[0mname\u001b[0m\u001b[1;33m[\u001b[0m\u001b[1;36m0\u001b[0m\u001b[1;33m]\u001b[0m\u001b[1;33m)\u001b[0m\u001b[1;33m\u001b[0m\u001b[1;33m\u001b[0m\u001b[0m\n\u001b[0;32m     11\u001b[0m \u001b[1;33m\u001b[0m\u001b[0m\n\u001b[1;32m---> 12\u001b[1;33m \u001b[0mprint\u001b[0m\u001b[1;33m(\u001b[0m\u001b[0m가\u001b[0m\u001b[1;33m)\u001b[0m\u001b[1;33m\u001b[0m\u001b[1;33m\u001b[0m\u001b[0m\n\u001b[0m\u001b[0;32m     13\u001b[0m \u001b[1;33m\u001b[0m\u001b[0m\n\u001b[0;32m     14\u001b[0m \u001b[0mprint\u001b[0m\u001b[1;33m(\u001b[0m\u001b[1;34m'1일 차 낮입니다! 자기소개를 해주세요!'\u001b[0m\u001b[1;33m)\u001b[0m\u001b[1;33m\u001b[0m\u001b[1;33m\u001b[0m\u001b[0m\n",
      "\u001b[1;31mNameError\u001b[0m: name '가' is not defined"
     ]
    }
   ],
   "source": [
    "import random\n",
    "\n",
    "rolls=['마피아', '경찰', '의사', '시민', '시민']\n",
    "\n",
    "while len(rolls)>0:\n",
    "    name=input('한 명씩 이름을 입력하고 직업을 확인하세요!(ex.홍길동): ')\n",
    "    name=[0,0]\n",
    "    name[0]=random.choice(rolls)\n",
    "    rolls.remove(name[0])\n",
    "    print(name[0])\n",
    "    \n",
    "print(가)\n",
    "    \n",
    "print('1일 차 낮입니다! 자기소개를 해주세요!')\n",
    "\n",
    "\n",
    "time=2\n",
    "while True:\n",
    "    if time%2==0:\n",
    "        print(time/2,'일차 낮입니다!')\n",
    "        voted_player=input('투표를 진행하여 마피아로 의심되는 한 명을 입력해주세요!')\n",
    "        \n"
   ]
  },
  {
   "cell_type": "code",
   "execution_count": null,
   "metadata": {},
   "outputs": [],
   "source": []
  }
 ],
 "metadata": {
  "kernelspec": {
   "display_name": "Python 3",
   "language": "python",
   "name": "python3"
  },
  "language_info": {
   "codemirror_mode": {
    "name": "ipython",
    "version": 3
   },
   "file_extension": ".py",
   "mimetype": "text/x-python",
   "name": "python",
   "nbconvert_exporter": "python",
   "pygments_lexer": "ipython3",
   "version": "3.7.6"
  }
 },
 "nbformat": 4,
 "nbformat_minor": 4
}
