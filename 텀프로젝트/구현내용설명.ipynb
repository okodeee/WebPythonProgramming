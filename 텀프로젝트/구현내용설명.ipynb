{
 "cells": [
  {
   "cell_type": "code",
   "execution_count": null,
   "metadata": {},
   "outputs": [],
   "source": [
    "처음에 플레이어 수, 마피아 수, 의사 수, 경찰 수를 입력받아 역할 리스트에 각 인원 수만큼 추가한다.<br>\n",
    "\n",
    "이름을 입력받고 랜덤 함수로 각 플레이어들에게 역할을 부여하여 [이름, 역할, 0]의 형태로 리스트에 추가한다.<br>\n",
    "\n",
    "플레이어들은 각자 이름을 입력해 자신의 직업을 확인한다.<br>\n",
    "\n",
    "반복문을 사용하여 마피아의 수가 시민의 수보다 적은 동안 낮과 밤을 진행한다.<br> \n",
    "\n",
    "처음에 시간을 3으로 설정하고 2로 나누었을 때의 몫이 n일차이고 나머지가 1이면 밤, 아니면 낮이다.\n",
    "\n",
    "밤에는 각자 돌아가며 자신의 능력을 쓴다.<br>\n",
    "\n",
    "[이름, 역할, 0]에서 마피아가 선택한 사람은 세 번째 값이 +1 되고, 의사가 선택한 사람은 -1이 된다.<br>\n",
    "\n",
    "경찰이 선택한 사람은 마피아인지 아닌지 알 수 있다.<br>\n",
    "\n",
    "시민은 타자 소리를 내기 위해 무의미한 입력을 받는다.<br>\n",
    "\n",
    "모두 입력을 마치면 둘째 날 아침이 되고 리스트의 세 번째 값이 1이상인 사람은 밤 사이 동안 살해되어 전체 공개된다.<br>\n",
    "\n",
    "낮에는 플레이어들끼리 투표하여 선정된 플레이어 한 명의 이름을 입력받고 처형한다.(탈락한다.)<br>\n",
    "\n",
    "진행 도중 마피아의 수가 시민의 수보다 많거나 같아지면 마피아가 승리한다.<br>\n",
    "\n",
    "마피아가 모두 탈락하면 그 즉시 시민의 승으로 게임이 종료된다.<br>"
   ]
  }
 ],
 "metadata": {
  "kernelspec": {
   "display_name": "Python 3",
   "language": "python",
   "name": "python3"
  },
  "language_info": {
   "codemirror_mode": {
    "name": "ipython",
    "version": 3
   },
   "file_extension": ".py",
   "mimetype": "text/x-python",
   "name": "python",
   "nbconvert_exporter": "python",
   "pygments_lexer": "ipython3",
   "version": "3.7.6"
  }
 },
 "nbformat": 4,
 "nbformat_minor": 4
}
