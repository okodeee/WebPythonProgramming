{
 "cells": [
  {
   "cell_type": "code",
   "execution_count": 12,
   "metadata": {},
   "outputs": [
    {
     "name": "stdout",
     "output_type": "stream",
     "text": [
      "scissor\n"
     ]
    }
   ],
   "source": [
    "import random\n",
    "\n",
    "def GenerateRandomCaseForComputer():\n",
    "    x=random.choice([\"scissor\", \"rock\", \"paper\"])\n",
    "    return x"
   ]
  },
  {
   "cell_type": "code",
   "execution_count": null,
   "metadata": {},
   "outputs": [],
   "source": [
    "def MakeDecision(valueUser, valueComputer):\n",
    "    \n",
    "    if valueUser==\"scissor\" and valueComputer==\"paper\" or valueUser==\"rock\" and valueComputer==\"scissor\" or valueUser==\"paper\" and valueComputer==\"rock\":\n",
    "        return \"User\"\n",
    "    \n",
    "    elif valueUser==\"scissor\" and valueComputer==\"rock\" or valueUser==\"rock\" and valueComputer==\"paper\" or valueUser==\"paper\" and valueComputer==\"scissor\":\n",
    "        return \"Computer\"\n",
    "    \n",
    "    elif valueUser==valueComputer:\n",
    "        return \"Tie\"\n",
    "    \n",
    "    else:\n",
    "        return -1"
   ]
  }
 ],
 "metadata": {
  "kernelspec": {
   "display_name": "Python 3",
   "language": "python",
   "name": "python3"
  },
  "language_info": {
   "codemirror_mode": {
    "name": "ipython",
    "version": 3
   },
   "file_extension": ".py",
   "mimetype": "text/x-python",
   "name": "python",
   "nbconvert_exporter": "python",
   "pygments_lexer": "ipython3",
   "version": "3.7.6"
  }
 },
 "nbformat": 4,
 "nbformat_minor": 4
}
