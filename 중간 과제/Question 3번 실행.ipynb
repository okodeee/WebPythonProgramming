{
 "cells": [
  {
   "cell_type": "code",
   "execution_count": 1,
   "metadata": {},
   "outputs": [
    {
     "name": "stdout",
     "output_type": "stream",
     "text": [
      "[1, 2, 4, 8]\n",
      "False\n"
     ]
    }
   ],
   "source": [
    "def isPrime(num, L):\n",
    "    L.extend([num, 1])\n",
    "    \n",
    "    for i in range(2, num):\n",
    "        if num%i==0:\n",
    "            L.append(i)\n",
    "    \n",
    "    if len(L)!=2:\n",
    "        L.sort()\n",
    "        print(L)\n",
    "        \n",
    "    return len(L)==2\n",
    "    # Implement the function here\n",
    "    # If syntax error occurs, no point will be given for this function\n",
    "    # Do not change the function header\n",
    "    \n",
    "ans = isPrime(8,[])  # This cell is for your confirmation, can be removed.\n",
    "print(ans)           # If correctly implemented, [1,2,4,8] is printed first, and False is printed at the next line."
   ]
  },
  {
   "cell_type": "code",
   "execution_count": null,
   "metadata": {},
   "outputs": [],
   "source": []
  }
 ],
 "metadata": {
  "kernelspec": {
   "display_name": "Python 3",
   "language": "python",
   "name": "python3"
  },
  "language_info": {
   "codemirror_mode": {
    "name": "ipython",
    "version": 3
   },
   "file_extension": ".py",
   "mimetype": "text/x-python",
   "name": "python",
   "nbconvert_exporter": "python",
   "pygments_lexer": "ipython3",
   "version": "3.7.6"
  }
 },
 "nbformat": 4,
 "nbformat_minor": 4
}
